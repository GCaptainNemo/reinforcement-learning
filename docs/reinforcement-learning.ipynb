{
 "cells": [
  {
   "cell_type": "markdown",
   "metadata": {},
   "source": [
    "# 强化学习\n",
    "## 一、介绍\n",
    "\n",
    "强化学习要求代理(Agent)在环境(environment)中进行交互，利用交互得到的信息，来找到最优的**策略**使累积奖励最大化。和监督学习相比，强化学习有如下三个特点 1. 没有显式的带标签的数据 2. 有延迟的惩罚或奖励 3. 获得数据的分布与代理行动(Actions)的分布有关。\n",
    "\n",
    "强化学习的trade-off: \n",
    "1. 探索(exploration)，包括探索环境未知的状态，未知的行动等，来获得更多的关于奖励(reward)的信息。\n",
    "2. 挖掘(exploitation)，即对已知的信息进行优化，来最大化奖励。\n"
   ]
  },
  {
   "cell_type": "markdown",
   "metadata": {},
   "source": [
    "## 二、基本概念\n",
    "### 2.1 马尔可夫决策过程\n",
    "马尔可夫决策过程(Markov decision process, MDP)是一个五元组$<S, A, P, R, \\gamma>$\n",
    "* 状态空间 $S$，即环境可能处在所有状态的集合。更准确地说，状态指代理(Agent)观察到环境的状态(默认环境的状态可以被完全观测)\n",
    "* 行为空间 $A$，即代理可能采取的行动的集合\n",
    "* 状态转移概率 $P_{ss'}^a = P(S_{t+1} = s'|S_t = s, A_t = a)$，即给定前一时刻环境状态$s$和代理行为$a$的情况下，环境状态在当前时刻变为$s'$的概率\n",
    "* 收益函数 $R_s ^a = \\mathbb{E}[R_{t+1}|S_t = s, A_t = a]$，即给定前一时刻环境状态$s$和代理行为$a$的情况下，环境在当前时刻给代理奖励的期望\n",
    "* 折扣系数 $\\gamma \\in [0, 1]$ \n",
    "\n",
    "MDP具有Markov性，即给定当前时刻状态和行为的情况下，下一时刻的状态与之前的状态和行为条件独立。\n",
    "$$S_{t+1} \\perp S_{t-1}, A_{t-1}, ..., S_{0}, A_{0}|S_{t}, A_{t}$$\n",
    "\n",
    "### 2.2 策略和值函数\n",
    "策略(policy)有两种定义方式：\n",
    "1. 确定性(determinstic)定义，从状态到行为的映射$ \\ \\pi: S\\rightarrow A$，即代理在观测到状态的情况下，应该采取什么行动。\n",
    "2. 概率定义，即$\\pi(a|s) = P(A_t=a|S_t=s)$。\n",
    "这里采取概率定义方式。\n",
    "\n",
    "给定MDP: $M = <S, A, P, R, \\gamma>$和策略$\\pi$，则状态序列$S_1, S_2, ...,$是一个Markov过程$<S, P^\\pi>$。状态和奖励序列$S_1, R_1, S_2, R_2, ...$是一个Markov奖励过程$<S, P^{\\pi}, R^{\\pi}, \\gamma>$，满足如下等式\n",
    "\n",
    "$$P_{ss'}^{\\pi} = \\sum_{a\\in A} \\pi(a|s)P_{ss'}^a$$\n",
    "\n",
    "\n",
    "马尔可夫决策过程的模型为：\n"
   ]
  },
  {
   "cell_type": "code",
   "execution_count": null,
   "metadata": {},
   "outputs": [],
   "source": []
  }
 ],
 "metadata": {
  "kernelspec": {
   "display_name": "Python 3",
   "language": "python",
   "name": "python3"
  },
  "language_info": {
   "codemirror_mode": {
    "name": "ipython",
    "version": 3
   },
   "file_extension": ".py",
   "mimetype": "text/x-python",
   "name": "python",
   "nbconvert_exporter": "python",
   "pygments_lexer": "ipython3",
   "version": "3.7.6"
  }
 },
 "nbformat": 4,
 "nbformat_minor": 4
}
