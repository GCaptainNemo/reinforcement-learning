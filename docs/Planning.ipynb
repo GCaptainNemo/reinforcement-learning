{
 "cells": [
  {
   "cell_type": "markdown",
   "metadata": {},
   "source": [
    "# 规划问题\n",
    "强化学习中规划(Planning)问题指环境模型已知的情况下，即$P_{ss'}^a$和$R_s^a$已知，寻找最优策略。求解规划问题算法包括策略迭代(policy iteration)、值函数迭代(value iteration)和线性规划(linear programming)。"
   ]
  },
  {
   "cell_type": "markdown",
   "metadata": {},
   "source": [
    "## 一、值函数迭代 \n",
    "值函数迭代算法(Value iteration algorithm)又称为VI算法，根据状态值函数的Bellman方程\n",
    "\n",
    "![value_iteration_algorithm](../resources/value_iteration_algorithm.png)"
   ]
  },
  {
   "cell_type": "markdown",
   "metadata": {},
   "source": [
    "## 二、策略迭代\n",
    "\n",
    "![value_iteration_algorithm](../resources/PI.png)"
   ]
  },
  {
   "cell_type": "code",
   "execution_count": 4,
   "metadata": {},
   "outputs": [
    {
     "data": {
      "text/latex": [
       "\\usepackage[noend]{algpseudocode}\n",
       "\n",
       "\\usepackage{algorithmicx,algorithm}\n",
       "\\begin{algorithm}[t]\n",
       "\\caption{Value Iteration Algorithm} %算法的名字\n",
       "\\hspace*{0.02in} {\\bf Input:}\n",
       "初始状态值函数 $V_0$, 奖励函数 $R_s^a$, 转移概率$P_{ss'}^a$, 精度$\\epsilon$, 折扣系数$\\gamma$ \\\\\n",
       "\\hspace*{0.02in} {\\bf Output:} %算法的结果输出\n",
       "最优值函数 $V^*$ \\\\\n",
       "\\hspace*{0.02in} {\\bf Operator:} $\\ \\Phi(V)(s) = \\max_{\\pi}\\{\\sum_{a\\in A} \\pi(a|s)[R_s^a + \\gamma \\sum_{s' \\in S}P_{ss'}^a V(s')]\\}$\n",
       "\\begin{algorithmic}[1]\n",
       "\n",
       "\\While{$||V - \\Phi(V)|| > \\frac{(1-\\gamma)\\epsilon}{\\gamma}$} \n",
       "\t\t \\State $V \\leftarrow \\Phi(V)$\n",
       "\\EndWhile\n",
       "\\State $V^* = \\Phi(V)$\n",
       "\\State \\Return $V^*$\n",
       "\\end{algorithmic}\n",
       "\\end{algorithm}\n"
      ],
      "text/plain": [
       "<IPython.core.display.Latex object>"
      ]
     },
     "metadata": {},
     "output_type": "display_data"
    }
   ],
   "source": [
    "%%latex\n",
    "\\usepackage[noend]{algpseudocode}\n",
    "\\usepackage{algorithmicx,algorithm}\n",
    "\\begin{algorithm}[t]\n",
    "\\caption{Value Iteration Algorithm} %算法的名字\n",
    "\\hspace*{0.02in} {\\bf Input:}\n",
    "初始状态值函数 $V_0$, 奖励函数 $R_s^a$, 转移概率$P_{ss'}^a$, 精度$\\epsilon$, 折扣系数$\\gamma$ \\\\\n",
    "\\hspace*{0.02in} {\\bf Output:} %算法的结果输出\n",
    "最优值函数 $V^*$ \\\\\n",
    "\\hspace*{0.02in} {\\bf Operator:} $\\ \\Phi(V)(s) = \\max_{\\pi}\\{\\sum_{a\\in A} \\pi(a|s)[R_s^a + \\gamma \\sum_{s' \\in S}P_{ss'}^a V(s')]\\}$\n",
    "\\begin{algorithmic}[1]\n",
    "\n",
    "\\While{$||V - \\Phi(V)|| > \\frac{(1-\\gamma)\\epsilon}{\\gamma}$} \n",
    "\t\t \\State $V \\leftarrow \\Phi(V)$\n",
    "\\EndWhile\n",
    "\\State $V^* = \\Phi(V)$\n",
    "\\State \\Return $V^*$\n",
    "\\end{algorithmic}\n",
    "\\end{algorithm}"
   ]
  },
  {
   "cell_type": "code",
   "execution_count": null,
   "metadata": {},
   "outputs": [],
   "source": []
  }
 ],
 "metadata": {
  "kernelspec": {
   "display_name": "Python 3",
   "language": "python",
   "name": "python3"
  },
  "language_info": {
   "codemirror_mode": {
    "name": "ipython",
    "version": 3
   },
   "file_extension": ".py",
   "mimetype": "text/x-python",
   "name": "python",
   "nbconvert_exporter": "python",
   "pygments_lexer": "ipython3",
   "version": "3.7.6"
  }
 },
 "nbformat": 4,
 "nbformat_minor": 4
}
